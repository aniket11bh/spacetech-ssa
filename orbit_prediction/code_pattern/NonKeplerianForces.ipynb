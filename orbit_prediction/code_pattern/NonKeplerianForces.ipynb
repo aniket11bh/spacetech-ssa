{
 "cells": [
  {
   "cell_type": "code",
   "execution_count": 20,
   "id": "c1f93121",
   "metadata": {},
   "outputs": [
    {
     "data": {
      "text/plain": [
       "array([0.  , 0.25, 0.5 , 0.75, 1.  ])"
      ]
     },
     "execution_count": 20,
     "metadata": {},
     "output_type": "execute_result"
    }
   ],
   "source": [
    "import numpy as np\n",
    "from numpy.linalg import norm\n",
    "import matplotlib.pyplot as plt\n",
    "\n",
    "from astropy import units as u\n",
    "from astropy.time import Time, TimeDelta\n",
    "from astropy.coordinates import solar_system_ephemeris\n",
    "\n",
    "from poliastro.twobody.propagation import propagate, cowell\n",
    "from poliastro.ephem import build_ephem_interpolant\n",
    "from poliastro.core.elements import rv2coe\n",
    "\n",
    "from poliastro.constants import rho0_earth, H0_earth\n",
    "from poliastro.core.perturbations import atmospheric_drag_exponential, third_body, J2_perturbation\n",
    "from poliastro.bodies import Earth, Moon\n",
    "from poliastro.twobody import Orbit\n",
    "from poliastro.plotting import OrbitPlotter3D\n",
    "\n",
    "np.linspace(0, 1, 5)"
   ]
  },
  {
   "cell_type": "code",
   "execution_count": 11,
   "id": "ff4773ec",
   "metadata": {},
   "outputs": [],
   "source": [
    "import plotly.io as pio\n",
    "pio.renderers.default = \"plotly_mimetype+notebook_connected\"\n",
    "# pio.renderers.default = \"notebook_connected"
   ]
  },
  {
   "cell_type": "code",
   "execution_count": 18,
   "id": "364c0e17",
   "metadata": {},
   "outputs": [
    {
     "name": "stdout",
     "output_type": "stream",
     "text": [
      "[0.00000000e+00 5.78993200e-04 1.15798640e-03 ... 1.15624942e+00\n",
      " 1.15682841e+00 1.15740741e+00]\n",
      "(2000,)\n"
     ]
    },
    {
     "data": {
      "text/plain": [
       "[<matplotlib.lines.Line2D at 0x7f359f7df5b0>]"
      ]
     },
     "execution_count": 18,
     "metadata": {},
     "output_type": "execute_result"
    },
    {
     "data": {
      "image/png": "[encoded data removed]",
      "text/plain": [
       "<Figure size 432x288 with 1 Axes>"
      ]
     },
     "metadata": {
      "needs_background": "light"
     },
     "output_type": "display_data"
    }
   ],
   "source": [
    "# https://poliastro-py.readthedocs.io/en/latest/examples/Natural%20and%20artificial%20perturbations.html\n",
    "\n",
    "R = Earth.R.to(u.km).value\n",
    "k = Earth.k.to(u.km ** 3 / u.s ** 2).value\n",
    "\n",
    "orbit = Orbit.circular(Earth, 250 * u.km, epoch=Time(0.0, format=\"jd\", scale=\"tdb\"))\n",
    "\n",
    "# parameters of a body\n",
    "C_D = 2.2  # dimentionless (any value would do)\n",
    "A_over_m = ((np.pi / 4.0) * (u.m ** 2) / (100 * u.kg)).to_value(\n",
    "    u.km ** 2 / u.kg\n",
    ")  # km^2/kg\n",
    "B = C_D * A_over_m\n",
    "\n",
    "# parameters of the atmosphere\n",
    "rho0 = rho0_earth.to(u.kg / u.km ** 3).value  # kg/km^3\n",
    "H0 = H0_earth.to(u.km).value\n",
    "\n",
    "tofs = TimeDelta(np.linspace(0 * u.h, 100000 * u.s, num=2000))\n",
    "print(tofs)\n",
    "print(tofs.shape)\n",
    "rr = propagate(\n",
    "    orbit,\n",
    "    tofs,\n",
    "    method=cowell,\n",
    "    ad=atmospheric_drag_exponential,\n",
    "    R=R,\n",
    "    C_D=C_D,\n",
    "    A_over_m=A_over_m,\n",
    "    H0=H0,\n",
    "    rho0=rho0\n",
    ")\n",
    "\n",
    "\n",
    "plt.ylabel(\"h(t)\")\n",
    "plt.xlabel(\"t, days\")\n",
    "plt.plot(tofs.value, rr.norm() - Earth.R)"
   ]
  },
  {
   "cell_type": "code",
   "execution_count": null,
   "id": "35c0071d",
   "metadata": {},
   "outputs": [],
   "source": [
    "rr = propagate(\n",
    "    orbit,\n",
    "    tofs,\n",
    "    method=cowell,\n",
    "    ad=atmospheric_drag_exponential,\n",
    "    R=R,\n",
    "    C_D=C_D,\n",
    "    A_over_m=A_over_m,\n",
    "    H0=H0,\n",
    "    rho0=rho0\n",
    ")\n",
    "\n",
    "\n",
    "plt.ylabel(\"h(t)\")\n",
    "plt.xlabel(\"t, days\")\n",
    "plt.plot(tofs.value, rr.norm() - Earth.R)"
   ]
  },
  {
   "cell_type": "code",
   "execution_count": 23,
   "id": "73a93df8",
   "metadata": {},
   "outputs": [],
   "source": [
    "import pandas as pd\n",
    "df = pd.DataFrame(\n",
    "    {\n",
    "        \"Animal\": [\"Falcon\", \"Parrot\", \"Falcon\", \"Falcon\", \"Parrot\"],\n",
    "        \"Speed\": [100, 5, 200, 300, 15],\n",
    "    }\n",
    ")"
   ]
  },
  {
   "cell_type": "code",
   "execution_count": 24,
   "id": "3e73b8a5",
   "metadata": {},
   "outputs": [
    {
     "data": {
      "text/plain": [
       "Grouper(key='Animal', axis=0, sort=False)"
      ]
     },
     "execution_count": 24,
     "metadata": {},
     "output_type": "execute_result"
    }
   ],
   "source": [
    "pd.Grouper(key=\"Animal\")"
   ]
  },
  {
   "cell_type": "code",
   "execution_count": 25,
   "id": "0ee0b3f9",
   "metadata": {},
   "outputs": [
    {
     "data": {
      "text/html": [
       "<div>\n",
       "<style scoped>\n",
       "    .dataframe tbody tr th:only-of-type {\n",
       "        vertical-align: middle;\n",
       "    }\n",
       "\n",
       "    .dataframe tbody tr th {\n",
       "        vertical-align: top;\n",
       "    }\n",
       "\n",
       "    .dataframe thead th {\n",
       "        text-align: right;\n",
       "    }\n",
       "</style>\n",
       "<table border=\"1\" class=\"dataframe\">\n",
       "  <thead>\n",
       "    <tr style=\"text-align: right;\">\n",
       "      <th></th>\n",
       "      <th>Letter</th>\n",
       "      <th>Number</th>\n",
       "    </tr>\n",
       "  </thead>\n",
       "  <tbody>\n",
       "    <tr>\n",
       "      <th>0</th>\n",
       "      <td>A</td>\n",
       "      <td>1</td>\n",
       "    </tr>\n",
       "    <tr>\n",
       "      <th>1</th>\n",
       "      <td>B</td>\n",
       "      <td>2</td>\n",
       "    </tr>\n",
       "    <tr>\n",
       "      <th>2</th>\n",
       "      <td>A</td>\n",
       "      <td>3</td>\n",
       "    </tr>\n",
       "    <tr>\n",
       "      <th>3</th>\n",
       "      <td>A</td>\n",
       "      <td>1</td>\n",
       "    </tr>\n",
       "    <tr>\n",
       "      <th>4</th>\n",
       "      <td>B</td>\n",
       "      <td>2</td>\n",
       "    </tr>\n",
       "    <tr>\n",
       "      <th>5</th>\n",
       "      <td>C</td>\n",
       "      <td>3</td>\n",
       "    </tr>\n",
       "    <tr>\n",
       "      <th>6</th>\n",
       "      <td>C</td>\n",
       "      <td>5</td>\n",
       "    </tr>\n",
       "    <tr>\n",
       "      <th>7</th>\n",
       "      <td>D</td>\n",
       "      <td>6</td>\n",
       "    </tr>\n",
       "    <tr>\n",
       "      <th>8</th>\n",
       "      <td>B</td>\n",
       "      <td>9</td>\n",
       "    </tr>\n",
       "  </tbody>\n",
       "</table>\n",
       "</div>"
      ],
      "text/plain": [
       "  Letter  Number\n",
       "0      A       1\n",
       "1      B       2\n",
       "2      A       3\n",
       "3      A       1\n",
       "4      B       2\n",
       "5      C       3\n",
       "6      C       5\n",
       "7      D       6\n",
       "8      B       9"
      ]
     },
     "execution_count": 25,
     "metadata": {},
     "output_type": "execute_result"
    }
   ],
   "source": [
    "my_data=pd.DataFrame(\n",
    "             data={'Letter' : ['A','B','A','A','B','C','C','D','B'],\n",
    "                   'Number' : [1,2,3,1,2,3,5,6,9]})\n",
    "my_data"
   ]
  },
  {
   "cell_type": "code",
   "execution_count": 30,
   "id": "af438a2e",
   "metadata": {},
   "outputs": [
    {
     "data": {
      "text/html": [
       "<div>\n",
       "<style scoped>\n",
       "    .dataframe tbody tr th:only-of-type {\n",
       "        vertical-align: middle;\n",
       "    }\n",
       "\n",
       "    .dataframe tbody tr th {\n",
       "        vertical-align: top;\n",
       "    }\n",
       "\n",
       "    .dataframe thead th {\n",
       "        text-align: right;\n",
       "    }\n",
       "</style>\n",
       "<table border=\"1\" class=\"dataframe\">\n",
       "  <thead>\n",
       "    <tr style=\"text-align: right;\">\n",
       "      <th></th>\n",
       "      <th>Letter</th>\n",
       "      <th>Number</th>\n",
       "    </tr>\n",
       "  </thead>\n",
       "  <tbody>\n",
       "    <tr>\n",
       "      <th>0</th>\n",
       "      <td>A</td>\n",
       "      <td>1</td>\n",
       "    </tr>\n",
       "    <tr>\n",
       "      <th>1</th>\n",
       "      <td>B</td>\n",
       "      <td>2</td>\n",
       "    </tr>\n",
       "    <tr>\n",
       "      <th>2</th>\n",
       "      <td>A</td>\n",
       "      <td>3</td>\n",
       "    </tr>\n",
       "    <tr>\n",
       "      <th>3</th>\n",
       "      <td>A</td>\n",
       "      <td>1</td>\n",
       "    </tr>\n",
       "    <tr>\n",
       "      <th>4</th>\n",
       "      <td>B</td>\n",
       "      <td>2</td>\n",
       "    </tr>\n",
       "    <tr>\n",
       "      <th>5</th>\n",
       "      <td>C</td>\n",
       "      <td>3</td>\n",
       "    </tr>\n",
       "    <tr>\n",
       "      <th>6</th>\n",
       "      <td>C</td>\n",
       "      <td>5</td>\n",
       "    </tr>\n",
       "    <tr>\n",
       "      <th>7</th>\n",
       "      <td>D</td>\n",
       "      <td>6</td>\n",
       "    </tr>\n",
       "    <tr>\n",
       "      <th>8</th>\n",
       "      <td>B</td>\n",
       "      <td>9</td>\n",
       "    </tr>\n",
       "  </tbody>\n",
       "</table>\n",
       "</div>"
      ],
      "text/plain": [
       "  Letter  Number\n",
       "0      A       1\n",
       "1      B       2\n",
       "2      A       3\n",
       "3      A       1\n",
       "4      B       2\n",
       "5      C       3\n",
       "6      C       5\n",
       "7      D       6\n",
       "8      B       9"
      ]
     },
     "execution_count": 30,
     "metadata": {},
     "output_type": "execute_result"
    }
   ],
   "source": [
    "data_1=my_data.groupby('Letter')\n",
    "data_1.head()"
   ]
  },
  {
   "cell_type": "code",
   "execution_count": null,
   "id": "164c4910",
   "metadata": {},
   "outputs": [],
   "source": []
  }
 ],
 "metadata": {
  "kernelspec": {
   "display_name": "Python 3 (ipykernel)",
   "language": "python",
   "name": "python3"
  },
  "language_info": {
   "codemirror_mode": {
    "name": "ipython",
    "version": 3
   },
   "file_extension": ".py",
   "mimetype": "text/x-python",
   "name": "python",
   "nbconvert_exporter": "python",
   "pygments_lexer": "ipython3",
   "version": "3.8.10"
  }
 },
 "nbformat": 4,
 "nbformat_minor": 5
}
